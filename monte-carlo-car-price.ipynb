{
 "cells": [
  {
   "cell_type": "code",
   "execution_count": null,
   "metadata": {
    "vscode": {
     "languageId": "plaintext"
    }
   },
   "outputs": [],
   "source": [
    "import numpy as np\n",
    "import matplotlib.pyplot as plt\n",
    "from scipy.stats import norm"
   ]
  },
  {
   "cell_type": "code",
   "execution_count": null,
   "metadata": {
    "vscode": {
     "languageId": "plaintext"
    }
   },
   "outputs": [],
   "source": [
    "#Criando as variáveis de interesse\n",
    "\n",
    "#Preço médio do carro Fonte: https://www.infomoney.com.br/consumo/preco-medio-do-carro-0km-chega-a-r-1514-mil-no-brasil-como-fazer-uma-boa-compra/\n",
    "\n",
    "#Criticar post -> falta de acesso na tabela FIPE https://veiculos.fipe.org.br/\n",
    "\n",
    "price_mean = 150000 #BRL\n",
    "price_std = 10000 #BRL\n",
    "\n",
    "price = np.random.normal(price_mean, price_std, 10000)\n",
    "plt.hist(price, bins=50, density=True)\n",
    "\n",
    "xmin, xmax = plt.xlim() # Obtém os limites do eixo x do histograma\n",
    "x = np.linspace(xmin, xmax, 1000) # Cria um intervalo de valores para a curva\n",
    "p = norm.pdf(x, price_mean, price_std) # Calcula a PDF da curva normal\n",
    "\n",
    "plt.axvline(price_mean, color='k', linestyle='--', label='Média')\n",
    "plt.plot(x, p, 'r', linewidth=1) # Plota a curva em vermelho com espessura 2\n",
    "\n",
    "\n",
    "plt.title('Distribuição de Preços de Carros')\n",
    "plt.legend(['Média','Curva Normal', 'Preços'])\n",
    "plt.xlabel('Preço (R$)')\n",
    "plt.ylabel('Densidade')\n",
    "plt.show()\n"
   ]
  }
 ],
 "metadata": {
  "language_info": {
   "name": "python"
  }
 },
 "nbformat": 4,
 "nbformat_minor": 2
}
